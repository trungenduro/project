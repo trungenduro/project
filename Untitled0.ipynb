{
  "nbformat": 4,
  "nbformat_minor": 0,
  "metadata": {
    "colab": {
      "provenance": [],
      "authorship_tag": "ABX9TyNA3kyCooaqmDPm8/i9iWHU",
      "include_colab_link": true
    },
    "kernelspec": {
      "name": "python3",
      "display_name": "Python 3"
    },
    "language_info": {
      "name": "python"
    }
  },
  "cells": [
    {
      "cell_type": "markdown",
      "metadata": {
        "id": "view-in-github",
        "colab_type": "text"
      },
      "source": [
        "<a href=\"https://colab.research.google.com/github/trungenduro/project/blob/main/Untitled0.ipynb\" target=\"_parent\"><img src=\"https://colab.research.google.com/assets/colab-badge.svg\" alt=\"Open In Colab\"/></a>"
      ]
    },
    {
      "cell_type": "code",
      "execution_count": 9,
      "metadata": {
        "colab": {
          "base_uri": "https://localhost:8080/"
        },
        "id": "T9IHsSN0qVu5",
        "outputId": "b3e7a65a-efbe-4f1c-ade4-1797ec19fb89"
      },
      "outputs": [
        {
          "output_type": "stream",
          "name": "stdout",
          "text": [
            "hello\n",
            "10>3\n"
          ]
        }
      ],
      "source": [
        "print('hello')\n",
        "a=10\n",
        "if (a>3) :\n",
        "  print(f'{a}>3')\n",
        "else:\n",
        "  print(f'{a}<3')"
      ]
    },
    {
      "cell_type": "markdown",
      "source": [
        "### **TEST**"
      ],
      "metadata": {
        "id": "sIeYRvAZrRpt"
      }
    },
    {
      "cell_type": "code",
      "source": [],
      "metadata": {
        "id": "CiRInwRsrWA0"
      },
      "execution_count": null,
      "outputs": []
    }
  ]
}